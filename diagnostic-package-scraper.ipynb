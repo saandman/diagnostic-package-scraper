{
 "cells": [
  {
   "cell_type": "code",
   "execution_count": 1,
   "id": "7873e63f",
   "metadata": {},
   "outputs": [],
   "source": [
    "import requests\n",
    "import time\n",
    "import tqdm\n",
    "import csv\n",
    "import pandas as pd\n",
    "from bs4 import BeautifulSoup, Comment"
   ]
  },
  {
   "cell_type": "code",
   "execution_count": 204,
   "id": "86661c1e",
   "metadata": {},
   "outputs": [],
   "source": [
    "# apollo\n",
    "apollo_url = \"https://www.apollodiagnostics.in/health-checkup-packages/bangalore\"\n",
    "\n",
    "def get_content(url):\n",
    "    response = requests.get(url)\n",
    "    soup = BeautifulSoup(response.content, \"html.parser\")\n",
    "    comments = soup.find_all(string=lambda text: isinstance(text, Comment))\n",
    "    for comment in comments:\n",
    "        comment.extract()\n",
    "    return soup"
   ]
  },
  {
   "cell_type": "code",
   "execution_count": 206,
   "id": "02f49fca",
   "metadata": {},
   "outputs": [],
   "source": [
    "def extract_price(element):\n",
    "    digits_and_dot = [char for char in element if char.isdigit() or char == '.']\n",
    "    if any(char.isdigit() or char == '.' for char in digits_and_dot):\n",
    "        return float(''.join(digits_and_dot))\n",
    "    else:\n",
    "        return None\n",
    "\n",
    "\n",
    "def apollo(soup, csv_filename='apollo.csv'):\n",
    "    def extract_details(details_url):\n",
    "        response1 = requests.get(details_url)\n",
    "        soup1 = BeautifulSoup(response1.content, \"html.parser\")\n",
    "        try:\n",
    "            sample_type_elem = soup1.find('span', class_='test-type-icon').find_parent('td')\n",
    "            sample_type = sample_type_elem.find_next('td').text.strip() if sample_type_elem else None\n",
    "            \n",
    "            general_faq_elem = soup1.find('div', class_='general-faq-index')\n",
    "            general_faq = general_faq_elem.text.strip() if general_faq_elem else None\n",
    "\n",
    "            return {\n",
    "                \"sample_type\": sample_type,\n",
    "                \"general_faq\": general_faq\n",
    "            }\n",
    "        except Exception as e:\n",
    "            print(f\"Error extracting details: {e}\")\n",
    "            return {\n",
    "                \"sample_type\": None,\n",
    "                \"general_faq\": None\n",
    "            }\n",
    "    \n",
    "    # create folder \n",
    "    if not os.path.exists('datasets'):\n",
    "        os.makedirs('datasets')\n",
    "\n",
    "    csv_path = os.path.join('datasets', csv_filename)\n",
    "\n",
    "    try:\n",
    "        with open(csv_path, 'w', newline='', encoding='utf-8') as csvfile:\n",
    "            fieldnames = [\"product_name\", \"data_id\", \"itemid\", \"pre_test_info\", \"report_delivery\",\n",
    "                          \"home_collection_available\", \"price\", \"sample_type\", \"general_faq\"]\n",
    "            writer = csv.DictWriter(csvfile, fieldnames=fieldnames)\n",
    "            writer.writeheader()\n",
    "\n",
    "            for product_div in tqdm.tqdm(soup.find_all('div', class_='tests-category-product-item'), desc=\"Processing URLs \"):\n",
    "                try:\n",
    "                    product_name = product_div.find('h4', class_='tests-category-product-name').find('a').text.strip()\n",
    "                    data_id = product_div.find('h4', class_='tests-category-product-name')['data-id']\n",
    "                    itemid = product_div.find('button', class_='addtocart')['itemid']\n",
    "                    pre_test_info = product_div.find('div', class_='tests-category-product-info').find('p').text.strip()\n",
    "                    report_delivery = product_div.find('div', class_='tests-category-product-report').find('p').text.strip()\n",
    "                    home_collection_available = product_div.find('p', class_='tests-category-product-home-available').text.strip()\n",
    "                    price_element = product_div.find('p', class_='tests-category-product-price').text.strip()\n",
    "                    price = extract_price(price_element)\n",
    "                    time.sleep(1)\n",
    "                    details_url = f'{apollo_url}/{data_id}'\n",
    "                    details = extract_details(details_url)\n",
    "\n",
    "                    writer.writerow({\n",
    "                        \"product_name\": product_name,\n",
    "                        \"data_id\": data_id,\n",
    "                        \"itemid\": itemid,\n",
    "                        \"pre_test_info\": pre_test_info,\n",
    "                        \"report_delivery\": report_delivery,\n",
    "                        \"home_collection_available\": home_collection_available,\n",
    "                        \"price\": price,\n",
    "                        \"sample_type\": details[\"sample_type\"],\n",
    "                        \"general_faq\": details[\"general_faq\"]\n",
    "                    })\n",
    "                except Exception as e:\n",
    "                    print(f\"Error processing product: {e}\")\n",
    "\n",
    "    except Exception as e:\n",
    "        print(f\"Error creating CSV file: {e}\")\n",
    "\n",
    "    df = pd.read_csv(csv_filename)\n",
    "    return df"
   ]
  },
  {
   "cell_type": "code",
   "execution_count": 197,
   "id": "279d7411",
   "metadata": {
    "scrolled": false
   },
   "outputs": [
    {
     "name": "stderr",
     "output_type": "stream",
     "text": [
      "Processing URLs :  50%|████████████████                | 215/427 [12:12<22:26,  6.35s/it]"
     ]
    },
    {
     "name": "stdout",
     "output_type": "stream",
     "text": [
      "Error extracting details: 'NoneType' object has no attribute 'find_parent'\n"
     ]
    },
    {
     "name": "stderr",
     "output_type": "stream",
     "text": [
      "Processing URLs :  60%|███████████████████             | 255/427 [14:29<09:28,  3.30s/it]"
     ]
    },
    {
     "name": "stdout",
     "output_type": "stream",
     "text": [
      "Error extracting details: 'NoneType' object has no attribute 'find_parent'\n"
     ]
    },
    {
     "name": "stderr",
     "output_type": "stream",
     "text": [
      "\r",
      "Processing URLs :  60%|███████████████████▏            | 256/427 [14:33<09:22,  3.29s/it]"
     ]
    },
    {
     "name": "stdout",
     "output_type": "stream",
     "text": [
      "Error extracting details: 'NoneType' object has no attribute 'find_parent'\n"
     ]
    },
    {
     "name": "stderr",
     "output_type": "stream",
     "text": [
      "\r",
      "Processing URLs :  60%|███████████████████▎            | 257/427 [14:36<09:14,  3.26s/it]"
     ]
    },
    {
     "name": "stdout",
     "output_type": "stream",
     "text": [
      "Error extracting details: 'NoneType' object has no attribute 'find_parent'\n"
     ]
    },
    {
     "name": "stderr",
     "output_type": "stream",
     "text": [
      "\r",
      "Processing URLs :  60%|███████████████████▎            | 258/427 [14:40<09:47,  3.47s/it]"
     ]
    },
    {
     "name": "stdout",
     "output_type": "stream",
     "text": [
      "Error extracting details: 'NoneType' object has no attribute 'find_parent'\n"
     ]
    },
    {
     "name": "stderr",
     "output_type": "stream",
     "text": [
      "Processing URLs :  64%|████████████████████▌           | 275/427 [15:37<08:33,  3.38s/it]"
     ]
    },
    {
     "name": "stdout",
     "output_type": "stream",
     "text": [
      "Error extracting details: 'NoneType' object has no attribute 'find_parent'\n"
     ]
    },
    {
     "name": "stderr",
     "output_type": "stream",
     "text": [
      "\r",
      "Processing URLs :  65%|████████████████████▋           | 276/427 [15:40<08:17,  3.29s/it]"
     ]
    },
    {
     "name": "stdout",
     "output_type": "stream",
     "text": [
      "Error extracting details: 'NoneType' object has no attribute 'find_parent'\n"
     ]
    },
    {
     "name": "stderr",
     "output_type": "stream",
     "text": [
      "\r",
      "Processing URLs :  65%|████████████████████▊           | 277/427 [15:43<08:08,  3.25s/it]"
     ]
    },
    {
     "name": "stdout",
     "output_type": "stream",
     "text": [
      "Error extracting details: 'NoneType' object has no attribute 'find_parent'\n"
     ]
    },
    {
     "name": "stderr",
     "output_type": "stream",
     "text": [
      "Processing URLs : 100%|████████████████████████████████| 427/427 [24:55<00:00,  3.50s/it]\n"
     ]
    },
    {
     "data": {
      "text/html": [
       "<div>\n",
       "<style scoped>\n",
       "    .dataframe tbody tr th:only-of-type {\n",
       "        vertical-align: middle;\n",
       "    }\n",
       "\n",
       "    .dataframe tbody tr th {\n",
       "        vertical-align: top;\n",
       "    }\n",
       "\n",
       "    .dataframe thead th {\n",
       "        text-align: right;\n",
       "    }\n",
       "</style>\n",
       "<table border=\"1\" class=\"dataframe\">\n",
       "  <thead>\n",
       "    <tr style=\"text-align: right;\">\n",
       "      <th></th>\n",
       "      <th>product_name</th>\n",
       "      <th>data_id</th>\n",
       "      <th>itemid</th>\n",
       "      <th>pre_test_info</th>\n",
       "      <th>report_delivery</th>\n",
       "      <th>home_collection_available</th>\n",
       "      <th>price</th>\n",
       "      <th>sample_type</th>\n",
       "      <th>general_faq</th>\n",
       "    </tr>\n",
       "  </thead>\n",
       "  <tbody>\n",
       "    <tr>\n",
       "      <th>0</th>\n",
       "      <td>Free T3 &amp; Free T4</td>\n",
       "      <td>free-t3-free-t4</td>\n",
       "      <td>2291</td>\n",
       "      <td>Any special preparation for the test is not re...</td>\n",
       "      <td>Speak to our customer care</td>\n",
       "      <td>Home Collection Available</td>\n",
       "      <td>700.0</td>\n",
       "      <td>Blood</td>\n",
       "      <td>FREE T4 (FT4)\\n FREE T4 (FT4)\\n\\nFREE T3 (FT3)...</td>\n",
       "    </tr>\n",
       "    <tr>\n",
       "      <th>1</th>\n",
       "      <td>Antithyroid Antibodies (anti Tpo And Anti Thyr...</td>\n",
       "      <td>antithyroid-antibodies-anti-tpo-and-anti-thyro...</td>\n",
       "      <td>1238</td>\n",
       "      <td>No special preparation is required for the test.</td>\n",
       "      <td>Speak to our customer care</td>\n",
       "      <td>Home Collection Available</td>\n",
       "      <td>2750.0</td>\n",
       "      <td>Blood</td>\n",
       "      <td>ANTI THYROGLOBULIN ANTIBODY\\n ANTI THYROGLOBUL...</td>\n",
       "    </tr>\n",
       "    <tr>\n",
       "      <th>2</th>\n",
       "      <td>Glucose - Serum/plasma - Fasting And 2 Hours A...</td>\n",
       "      <td>glucose-serumplasma-fasting-and-2-hours-after-...</td>\n",
       "      <td>1009</td>\n",
       "      <td>First sample to be provided, with overnight fa...</td>\n",
       "      <td>Speak to our customer care</td>\n",
       "      <td>Home Collection Available</td>\n",
       "      <td>140.0</td>\n",
       "      <td>Blood</td>\n",
       "      <td>GLUCOSE, FASTING\\n GLUCOSE\\n FASTING\\n\\nGLUCOS...</td>\n",
       "    </tr>\n",
       "    <tr>\n",
       "      <th>3</th>\n",
       "      <td>Glucose Fasting &amp; Pp</td>\n",
       "      <td>glucose-fasting-pp</td>\n",
       "      <td>1020</td>\n",
       "      <td>First sample to be provided, with overnight fa...</td>\n",
       "      <td>Speak to our customer care</td>\n",
       "      <td>Home Collection Available</td>\n",
       "      <td>160.0</td>\n",
       "      <td>Blood</td>\n",
       "      <td>GLUCOSE, FASTING\\n GLUCOSE\\n FASTING\\n\\nGLUCOS...</td>\n",
       "    </tr>\n",
       "    <tr>\n",
       "      <th>4</th>\n",
       "      <td>Fsh,lh,prolactin, T3,t4,tsh</td>\n",
       "      <td>fshlhprolactin-t3t4tsh</td>\n",
       "      <td>1025</td>\n",
       "      <td>No special preparation is required for the test.</td>\n",
       "      <td>Speak to our customer care</td>\n",
       "      <td>Home Collection Available</td>\n",
       "      <td>1950.0</td>\n",
       "      <td>Blood</td>\n",
       "      <td>FOLLICLE STIMULATING HORMONE (FSH)\\n FOLLICLE ...</td>\n",
       "    </tr>\n",
       "  </tbody>\n",
       "</table>\n",
       "</div>"
      ],
      "text/plain": [
       "                                        product_name  \\\n",
       "0                                  Free T3 & Free T4   \n",
       "1  Antithyroid Antibodies (anti Tpo And Anti Thyr...   \n",
       "2  Glucose - Serum/plasma - Fasting And 2 Hours A...   \n",
       "3                               Glucose Fasting & Pp   \n",
       "4                        Fsh,lh,prolactin, T3,t4,tsh   \n",
       "\n",
       "                                             data_id  itemid  \\\n",
       "0                                    free-t3-free-t4    2291   \n",
       "1  antithyroid-antibodies-anti-tpo-and-anti-thyro...    1238   \n",
       "2  glucose-serumplasma-fasting-and-2-hours-after-...    1009   \n",
       "3                                 glucose-fasting-pp    1020   \n",
       "4                             fshlhprolactin-t3t4tsh    1025   \n",
       "\n",
       "                                       pre_test_info  \\\n",
       "0  Any special preparation for the test is not re...   \n",
       "1   No special preparation is required for the test.   \n",
       "2  First sample to be provided, with overnight fa...   \n",
       "3  First sample to be provided, with overnight fa...   \n",
       "4   No special preparation is required for the test.   \n",
       "\n",
       "              report_delivery  home_collection_available   price sample_type  \\\n",
       "0  Speak to our customer care  Home Collection Available   700.0       Blood   \n",
       "1  Speak to our customer care  Home Collection Available  2750.0       Blood   \n",
       "2  Speak to our customer care  Home Collection Available   140.0       Blood   \n",
       "3  Speak to our customer care  Home Collection Available   160.0       Blood   \n",
       "4  Speak to our customer care  Home Collection Available  1950.0       Blood   \n",
       "\n",
       "                                         general_faq  \n",
       "0  FREE T4 (FT4)\\n FREE T4 (FT4)\\n\\nFREE T3 (FT3)...  \n",
       "1  ANTI THYROGLOBULIN ANTIBODY\\n ANTI THYROGLOBUL...  \n",
       "2  GLUCOSE, FASTING\\n GLUCOSE\\n FASTING\\n\\nGLUCOS...  \n",
       "3  GLUCOSE, FASTING\\n GLUCOSE\\n FASTING\\n\\nGLUCOS...  \n",
       "4  FOLLICLE STIMULATING HORMONE (FSH)\\n FOLLICLE ...  "
      ]
     },
     "execution_count": 197,
     "metadata": {},
     "output_type": "execute_result"
    }
   ],
   "source": [
    "result_df = apollo(get_content(apollo_url))\n",
    "result_df.head()"
   ]
  },
  {
   "cell_type": "code",
   "execution_count": null,
   "id": "49dbe6bf",
   "metadata": {},
   "outputs": [],
   "source": []
  }
 ],
 "metadata": {
  "kernelspec": {
   "display_name": "Python 3 (ipykernel)",
   "language": "python",
   "name": "python3"
  },
  "language_info": {
   "codemirror_mode": {
    "name": "ipython",
    "version": 3
   },
   "file_extension": ".py",
   "mimetype": "text/x-python",
   "name": "python",
   "nbconvert_exporter": "python",
   "pygments_lexer": "ipython3",
   "version": "3.10.11"
  }
 },
 "nbformat": 4,
 "nbformat_minor": 5
}
